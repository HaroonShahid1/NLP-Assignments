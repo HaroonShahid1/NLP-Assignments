{
  "nbformat": 4,
  "nbformat_minor": 0,
  "metadata": {
    "colab": {
      "provenance": []
    },
    "kernelspec": {
      "name": "python3",
      "display_name": "Python 3"
    },
    "language_info": {
      "name": "python"
    }
  },
  "cells": [
    {
      "cell_type": "code",
      "source": [
        "import pandas as pd\n",
        "import numpy as np\n",
        "from sklearn.model_selection import train_test_split\n",
        "from sklearn.metrics import accuracy_score, precision_score, recall_score, f1_score\n",
        "from sklearn.preprocessing import LabelEncoder\n",
        "from gensim.models import Word2Vec\n",
        "from keras.preprocessing.text import Tokenizer\n",
        "from keras.preprocessing.sequence import pad_sequences\n",
        "from keras.models import Sequential\n",
        "from keras.layers import Embedding, GRU, Dense\n",
        "from keras.callbacks import EarlyStopping"
      ],
      "metadata": {
        "id": "PLSso_ITnnEI"
      },
      "execution_count": null,
      "outputs": []
    },
    {
      "cell_type": "markdown",
      "source": [
        "# Load the data set"
      ],
      "metadata": {
        "id": "bZmw70a2sJ7y"
      }
    },
    {
      "cell_type": "code",
      "source": [
        "file = 'urdu-sentiment-corpus-v1.tsv'\n",
        "df = pd.read_csv(file, sep='\\t', header=0)"
      ],
      "metadata": {
        "id": "qAxBIABhsKD6"
      },
      "execution_count": null,
      "outputs": []
    },
    {
      "cell_type": "markdown",
      "source": [
        "# Filter and Encode"
      ],
      "metadata": {
        "id": "zM31VSggsKL5"
      }
    },
    {
      "cell_type": "code",
      "source": [
        "df = df[df['Class'] != 'O']\n",
        "label_encoder = LabelEncoder()\n",
        "df['Class'] = label_encoder.fit_transform(df['Class'])"
      ],
      "metadata": {
        "id": "kNvl_GIWsKSV"
      },
      "execution_count": null,
      "outputs": []
    },
    {
      "cell_type": "markdown",
      "source": [
        "# Train-test split"
      ],
      "metadata": {
        "id": "Y4ABaSPHsU_W"
      }
    },
    {
      "cell_type": "code",
      "source": [
        "X_train, X_test, y_train, y_test = train_test_split(df['Tweet'], df['Class'], test_size=0.2, random_state=42)"
      ],
      "metadata": {
        "id": "YOWEpD8DsVGk"
      },
      "execution_count": null,
      "outputs": []
    },
    {
      "cell_type": "markdown",
      "source": [
        "# Tokenize tweets"
      ],
      "metadata": {
        "id": "0SToZ5tAsbc0"
      }
    },
    {
      "cell_type": "code",
      "source": [
        "tokenizer = Tokenizer()\n",
        "tokenizer.fit_on_texts(X_train)\n",
        "X_train_seq = tokenizer.texts_to_sequences(X_train)\n",
        "X_test_seq = tokenizer.texts_to_sequences(X_test)"
      ],
      "metadata": {
        "id": "VWtHs7DSsbiy"
      },
      "execution_count": null,
      "outputs": []
    },
    {
      "cell_type": "code",
      "source": [
        "vocab_size = len(tokenizer.word_index) + 1\n",
        "\n",
        "len = max([len(s.split()) for s in X_train])\n",
        "X_train_padded = pad_sequences(X_train_seq, maxlen=len, padding='post')\n",
        "X_test_padded = pad_sequences(X_test_seq, maxlen=len, padding='post')"
      ],
      "metadata": {
        "id": "a32og3_0shG3"
      },
      "execution_count": null,
      "outputs": []
    },
    {
      "cell_type": "markdown",
      "source": [
        "# GRU model without Word2Vec embeddings"
      ],
      "metadata": {
        "id": "s0ca0dx1shkp"
      }
    },
    {
      "cell_type": "code",
      "source": [
        "def GRU_without_Embedding():\n",
        "    model = Sequential()\n",
        "    model.add(Embedding(input_dim=vocab_size, output_dim=100, input_length=len))\n",
        "    model.add(GRU(100, return_sequences=True))\n",
        "    model.add(GRU(100))\n",
        "    model.add(Dense(1, activation='sigmoid'))\n",
        "    model.compile(optimizer='adam', loss='binary_crossentropy', metrics=['accuracy'])\n",
        "    return model"
      ],
      "metadata": {
        "id": "aa-4ggnsshst"
      },
      "execution_count": null,
      "outputs": []
    },
    {
      "cell_type": "code",
      "source": [
        "gru_without_emb = GRU_without_Embedding()\n",
        "gru_without_emb.fit(X_train_padded, y_train, validation_data=(X_test_padded, y_test), epochs=10, batch_size=64, verbose=1)"
      ],
      "metadata": {
        "colab": {
          "base_uri": "https://localhost:8080/"
        },
        "id": "oYJtGKuMsoZW",
        "outputId": "c9990809-2efd-495e-ed83-6021da998e74"
      },
      "execution_count": null,
      "outputs": [
        {
          "output_type": "stream",
          "name": "stdout",
          "text": [
            "Epoch 1/10\n",
            "13/13 [==============================] - 16s 226ms/step - loss: 0.6941 - accuracy: 0.4872 - val_loss: 0.6934 - val_accuracy: 0.4796\n",
            "Epoch 2/10\n",
            "13/13 [==============================] - 2s 121ms/step - loss: 0.6951 - accuracy: 0.5013 - val_loss: 0.6928 - val_accuracy: 0.5153\n",
            "Epoch 3/10\n",
            "13/13 [==============================] - 2s 125ms/step - loss: 0.6940 - accuracy: 0.5077 - val_loss: 0.6928 - val_accuracy: 0.5153\n",
            "Epoch 4/10\n",
            "13/13 [==============================] - 2s 127ms/step - loss: 0.6936 - accuracy: 0.5102 - val_loss: 0.6930 - val_accuracy: 0.5153\n",
            "Epoch 5/10\n",
            "13/13 [==============================] - 3s 231ms/step - loss: 0.6921 - accuracy: 0.5281 - val_loss: 0.6930 - val_accuracy: 0.5153\n",
            "Epoch 6/10\n",
            "13/13 [==============================] - 2s 128ms/step - loss: 0.6597 - accuracy: 0.5740 - val_loss: 1.0444 - val_accuracy: 0.5306\n",
            "Epoch 7/10\n",
            "13/13 [==============================] - 2s 123ms/step - loss: 0.5187 - accuracy: 0.7347 - val_loss: 0.7854 - val_accuracy: 0.6327\n",
            "Epoch 8/10\n",
            "13/13 [==============================] - 2s 124ms/step - loss: 0.1657 - accuracy: 0.9464 - val_loss: 1.5384 - val_accuracy: 0.5765\n",
            "Epoch 9/10\n",
            "13/13 [==============================] - 2s 127ms/step - loss: 0.0898 - accuracy: 0.9707 - val_loss: 1.8479 - val_accuracy: 0.5816\n",
            "Epoch 10/10\n",
            "13/13 [==============================] - 2s 125ms/step - loss: 0.0208 - accuracy: 0.9936 - val_loss: 1.4485 - val_accuracy: 0.6173\n"
          ]
        },
        {
          "output_type": "execute_result",
          "data": {
            "text/plain": [
              "<keras.src.callbacks.History at 0x78d9bdb20df0>"
            ]
          },
          "metadata": {},
          "execution_count": 10
        }
      ]
    },
    {
      "cell_type": "markdown",
      "source": [
        "# Word2Vec model"
      ],
      "metadata": {
        "id": "8J-50Ot_spEa"
      }
    },
    {
      "cell_type": "code",
      "source": [
        "word2vec_model = Word2Vec(sentences=[sentence.split() for sentence in X_train], vector_size=100, window=5, min_count=1, workers=4)\n",
        "\n",
        "word2vec_embedding_matrix = np.zeros((vocab_size, 100))\n",
        "for word, i in tokenizer.word_index.items():\n",
        "    try:\n",
        "        word2vec_embedding_matrix[i] = word2vec_model.wv[word]\n",
        "    except KeyError:\n",
        "        continue"
      ],
      "metadata": {
        "id": "rxV44CI7spMf"
      },
      "execution_count": null,
      "outputs": []
    },
    {
      "cell_type": "markdown",
      "source": [
        "# GRU model with Word2Vec embeddings"
      ],
      "metadata": {
        "id": "Q4tuaWVrsyQY"
      }
    },
    {
      "cell_type": "code",
      "source": [
        "gru_with_w2vec = Sequential()\n",
        "gru_with_w2vec.add(Embedding(input_dim=vocab_size, output_dim=100, weights=[word2vec_embedding_matrix], input_length=len, trainable=False))\n",
        "gru_with_w2vec.add(GRU(100, return_sequences=True))\n",
        "gru_with_w2vec.add(GRU(100))\n",
        "gru_with_w2vec.add(Dense(1, activation='sigmoid'))\n",
        "gru_with_w2vec.compile(optimizer='adam', loss='binary_crossentropy', metrics=['accuracy'])"
      ],
      "metadata": {
        "id": "t2jDC2npsyWJ"
      },
      "execution_count": null,
      "outputs": []
    },
    {
      "cell_type": "code",
      "source": [
        "gru_with_w2vec.fit(X_train_padded, y_train, validation_data=(X_test_padded, y_test), epochs=10, batch_size=64, verbose=1)"
      ],
      "metadata": {
        "colab": {
          "base_uri": "https://localhost:8080/"
        },
        "id": "bpK5a1NYsyib",
        "outputId": "7196c1e8-036c-4728-e3f7-3db615f5022c"
      },
      "execution_count": null,
      "outputs": [
        {
          "output_type": "stream",
          "name": "stdout",
          "text": [
            "Epoch 1/10\n",
            "13/13 [==============================] - 15s 488ms/step - loss: 0.6946 - accuracy: 0.5089 - val_loss: 0.6927 - val_accuracy: 0.5153\n",
            "Epoch 2/10\n",
            "13/13 [==============================] - 3s 197ms/step - loss: 0.6930 - accuracy: 0.5077 - val_loss: 0.6930 - val_accuracy: 0.5153\n",
            "Epoch 3/10\n",
            "13/13 [==============================] - 3s 206ms/step - loss: 0.6933 - accuracy: 0.5077 - val_loss: 0.6927 - val_accuracy: 0.5153\n",
            "Epoch 4/10\n",
            "13/13 [==============================] - 3s 213ms/step - loss: 0.6937 - accuracy: 0.5000 - val_loss: 0.6931 - val_accuracy: 0.5153\n",
            "Epoch 5/10\n",
            "13/13 [==============================] - 4s 317ms/step - loss: 0.6933 - accuracy: 0.4783 - val_loss: 0.6930 - val_accuracy: 0.5153\n",
            "Epoch 6/10\n",
            "13/13 [==============================] - 3s 205ms/step - loss: 0.6933 - accuracy: 0.4707 - val_loss: 0.6933 - val_accuracy: 0.4847\n",
            "Epoch 7/10\n",
            "13/13 [==============================] - 3s 214ms/step - loss: 0.6932 - accuracy: 0.4911 - val_loss: 0.6933 - val_accuracy: 0.4847\n",
            "Epoch 8/10\n",
            "13/13 [==============================] - 1s 110ms/step - loss: 0.6933 - accuracy: 0.4847 - val_loss: 0.6931 - val_accuracy: 0.5051\n",
            "Epoch 9/10\n",
            "13/13 [==============================] - 1s 114ms/step - loss: 0.6932 - accuracy: 0.5038 - val_loss: 0.6931 - val_accuracy: 0.5153\n",
            "Epoch 10/10\n",
            "13/13 [==============================] - 2s 130ms/step - loss: 0.6931 - accuracy: 0.5140 - val_loss: 0.6928 - val_accuracy: 0.5204\n"
          ]
        },
        {
          "output_type": "execute_result",
          "data": {
            "text/plain": [
              "<keras.src.callbacks.History at 0x78d9adcc0e50>"
            ]
          },
          "metadata": {},
          "execution_count": 14
        }
      ]
    },
    {
      "cell_type": "code",
      "source": [
        "def evaluate_model(model, X_test_padded, y_test):\n",
        "    y_pred = (model.predict(X_test_padded) > 0.5).astype('int32')\n",
        "    accuracy = accuracy_score(y_test, y_pred)\n",
        "    precision = precision_score(y_test, y_pred)\n",
        "    recall = recall_score(y_test, y_pred)\n",
        "    f_score = f1_score(y_test, y_pred)\n",
        "    return accuracy, precision, recall, f_score"
      ],
      "metadata": {
        "id": "pVdSxKaBrhj2"
      },
      "execution_count": null,
      "outputs": []
    },
    {
      "cell_type": "code",
      "source": [
        "accuracy_without_embeddings, precision_without_embeddings, recall_without_embeddings, f_score_without_embeddings = evaluate_model(gru_without_emb, X_test_padded, y_test)\n",
        "accuracy_word2vec, precision_word2vec, recall_word2vec, f_score_word2vec = evaluate_model(gru_with_w2vec, X_test_padded, y_test)"
      ],
      "metadata": {
        "colab": {
          "base_uri": "https://localhost:8080/"
        },
        "id": "71vydGf1sGzd",
        "outputId": "c6661b2d-90a1-46f9-e5ec-c2995377de4e"
      },
      "execution_count": null,
      "outputs": [
        {
          "output_type": "stream",
          "name": "stdout",
          "text": [
            "7/7 [==============================] - 1s 17ms/step\n",
            "7/7 [==============================] - 1s 16ms/step\n"
          ]
        }
      ]
    },
    {
      "cell_type": "code",
      "source": [
        "print(\"Results:\")\n",
        "print(\"GRU without embeddings:\")\n",
        "print(f\"Accuracy: {accuracy_without_embeddings}\")\n",
        "print(f\"Precision: {precision_without_embeddings}\")\n",
        "print(f\"Recall: {recall_without_embeddings}\")\n",
        "print(f\"F-score: {f_score_without_embeddings}\")"
      ],
      "metadata": {
        "colab": {
          "base_uri": "https://localhost:8080/"
        },
        "id": "3tAcyjwwsHAt",
        "outputId": "da25df16-42e6-4814-bed6-b43aafb0affc"
      },
      "execution_count": null,
      "outputs": [
        {
          "output_type": "stream",
          "name": "stdout",
          "text": [
            "Results:\n",
            "GRU without embeddings:\n",
            "Accuracy: 0.6173469387755102\n",
            "Precision: 0.6351351351351351\n",
            "Recall: 0.49473684210526314\n",
            "F-score: 0.5562130177514794\n"
          ]
        }
      ]
    },
    {
      "cell_type": "code",
      "source": [
        "print(\"\\nGRU with Word2Vec embeddings:\")\n",
        "print(f\"Accuracy: {accuracy_word2vec}\")\n",
        "print(f\"Precision: {precision_word2vec}\")\n",
        "print(f\"Recall: {recall_word2vec}\")\n",
        "print(f\"F-score: {f_score_word2vec}\")"
      ],
      "metadata": {
        "colab": {
          "base_uri": "https://localhost:8080/"
        },
        "id": "1KC2DVtgrhwd",
        "outputId": "8b645362-2d3b-40bc-bd72-8cd0ef08de28"
      },
      "execution_count": null,
      "outputs": [
        {
          "output_type": "stream",
          "name": "stdout",
          "text": [
            "\n",
            "GRU with Word2Vec embeddings:\n",
            "Accuracy: 0.5204081632653061\n",
            "Precision: 1.0\n",
            "Recall: 0.010526315789473684\n",
            "F-score: 0.020833333333333332\n"
          ]
        }
      ]
    }
  ]
}