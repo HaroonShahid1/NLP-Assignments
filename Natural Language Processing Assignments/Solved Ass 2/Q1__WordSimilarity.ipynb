{
  "nbformat": 4,
  "nbformat_minor": 0,
  "metadata": {
    "colab": {
      "provenance": []
    },
    "kernelspec": {
      "name": "python3",
      "display_name": "Python 3"
    },
    "language_info": {
      "name": "python"
    }
  },
  "cells": [
    {
      "cell_type": "code",
      "execution_count": 3,
      "metadata": {
        "id": "rKgKqfLofL9L",
        "colab": {
          "base_uri": "https://localhost:8080/"
        },
        "outputId": "3756856f-df2c-4c20-8fbb-beb656480584"
      },
      "outputs": [
        {
          "output_type": "stream",
          "name": "stdout",
          "text": [
            "Requirement already satisfied: spacy in /usr/local/lib/python3.10/dist-packages (3.7.4)\n",
            "Requirement already satisfied: spacy-legacy<3.1.0,>=3.0.11 in /usr/local/lib/python3.10/dist-packages (from spacy) (3.0.12)\n",
            "Requirement already satisfied: spacy-loggers<2.0.0,>=1.0.0 in /usr/local/lib/python3.10/dist-packages (from spacy) (1.0.5)\n",
            "Requirement already satisfied: murmurhash<1.1.0,>=0.28.0 in /usr/local/lib/python3.10/dist-packages (from spacy) (1.0.10)\n",
            "Requirement already satisfied: cymem<2.1.0,>=2.0.2 in /usr/local/lib/python3.10/dist-packages (from spacy) (2.0.8)\n",
            "Requirement already satisfied: preshed<3.1.0,>=3.0.2 in /usr/local/lib/python3.10/dist-packages (from spacy) (3.0.9)\n",
            "Requirement already satisfied: thinc<8.3.0,>=8.2.2 in /usr/local/lib/python3.10/dist-packages (from spacy) (8.2.3)\n",
            "Requirement already satisfied: wasabi<1.2.0,>=0.9.1 in /usr/local/lib/python3.10/dist-packages (from spacy) (1.1.2)\n",
            "Requirement already satisfied: srsly<3.0.0,>=2.4.3 in /usr/local/lib/python3.10/dist-packages (from spacy) (2.4.8)\n",
            "Requirement already satisfied: catalogue<2.1.0,>=2.0.6 in /usr/local/lib/python3.10/dist-packages (from spacy) (2.0.10)\n",
            "Requirement already satisfied: weasel<0.4.0,>=0.1.0 in /usr/local/lib/python3.10/dist-packages (from spacy) (0.3.4)\n",
            "Requirement already satisfied: typer<0.10.0,>=0.3.0 in /usr/local/lib/python3.10/dist-packages (from spacy) (0.9.0)\n",
            "Requirement already satisfied: smart-open<7.0.0,>=5.2.1 in /usr/local/lib/python3.10/dist-packages (from spacy) (6.4.0)\n",
            "Requirement already satisfied: tqdm<5.0.0,>=4.38.0 in /usr/local/lib/python3.10/dist-packages (from spacy) (4.66.2)\n",
            "Requirement already satisfied: requests<3.0.0,>=2.13.0 in /usr/local/lib/python3.10/dist-packages (from spacy) (2.31.0)\n",
            "Requirement already satisfied: pydantic!=1.8,!=1.8.1,<3.0.0,>=1.7.4 in /usr/local/lib/python3.10/dist-packages (from spacy) (2.6.3)\n",
            "Requirement already satisfied: jinja2 in /usr/local/lib/python3.10/dist-packages (from spacy) (3.1.3)\n",
            "Requirement already satisfied: setuptools in /usr/local/lib/python3.10/dist-packages (from spacy) (67.7.2)\n",
            "Requirement already satisfied: packaging>=20.0 in /usr/local/lib/python3.10/dist-packages (from spacy) (23.2)\n",
            "Requirement already satisfied: langcodes<4.0.0,>=3.2.0 in /usr/local/lib/python3.10/dist-packages (from spacy) (3.3.0)\n",
            "Requirement already satisfied: numpy>=1.19.0 in /usr/local/lib/python3.10/dist-packages (from spacy) (1.25.2)\n",
            "Requirement already satisfied: annotated-types>=0.4.0 in /usr/local/lib/python3.10/dist-packages (from pydantic!=1.8,!=1.8.1,<3.0.0,>=1.7.4->spacy) (0.6.0)\n",
            "Requirement already satisfied: pydantic-core==2.16.3 in /usr/local/lib/python3.10/dist-packages (from pydantic!=1.8,!=1.8.1,<3.0.0,>=1.7.4->spacy) (2.16.3)\n",
            "Requirement already satisfied: typing-extensions>=4.6.1 in /usr/local/lib/python3.10/dist-packages (from pydantic!=1.8,!=1.8.1,<3.0.0,>=1.7.4->spacy) (4.10.0)\n",
            "Requirement already satisfied: charset-normalizer<4,>=2 in /usr/local/lib/python3.10/dist-packages (from requests<3.0.0,>=2.13.0->spacy) (3.3.2)\n",
            "Requirement already satisfied: idna<4,>=2.5 in /usr/local/lib/python3.10/dist-packages (from requests<3.0.0,>=2.13.0->spacy) (3.6)\n",
            "Requirement already satisfied: urllib3<3,>=1.21.1 in /usr/local/lib/python3.10/dist-packages (from requests<3.0.0,>=2.13.0->spacy) (2.0.7)\n",
            "Requirement already satisfied: certifi>=2017.4.17 in /usr/local/lib/python3.10/dist-packages (from requests<3.0.0,>=2.13.0->spacy) (2024.2.2)\n",
            "Requirement already satisfied: blis<0.8.0,>=0.7.8 in /usr/local/lib/python3.10/dist-packages (from thinc<8.3.0,>=8.2.2->spacy) (0.7.11)\n",
            "Requirement already satisfied: confection<1.0.0,>=0.0.1 in /usr/local/lib/python3.10/dist-packages (from thinc<8.3.0,>=8.2.2->spacy) (0.1.4)\n",
            "Requirement already satisfied: click<9.0.0,>=7.1.1 in /usr/local/lib/python3.10/dist-packages (from typer<0.10.0,>=0.3.0->spacy) (8.1.7)\n",
            "Requirement already satisfied: cloudpathlib<0.17.0,>=0.7.0 in /usr/local/lib/python3.10/dist-packages (from weasel<0.4.0,>=0.1.0->spacy) (0.16.0)\n",
            "Requirement already satisfied: MarkupSafe>=2.0 in /usr/local/lib/python3.10/dist-packages (from jinja2->spacy) (2.1.5)\n"
          ]
        }
      ],
      "source": [
        "!pip install spacy"
      ]
    },
    {
      "cell_type": "code",
      "source": [
        "!python -m spacy download en_core_web_md  # Or en_core_web_lg for a larger model"
      ],
      "metadata": {
        "colab": {
          "base_uri": "https://localhost:8080/"
        },
        "id": "E0MncaU-4Kb5",
        "outputId": "086db10e-65fc-4033-d0b2-1c279761fa66"
      },
      "execution_count": 4,
      "outputs": [
        {
          "output_type": "stream",
          "name": "stdout",
          "text": [
            "Collecting en-core-web-md==3.7.1\n",
            "  Downloading https://github.com/explosion/spacy-models/releases/download/en_core_web_md-3.7.1/en_core_web_md-3.7.1-py3-none-any.whl (42.8 MB)\n",
            "\u001b[2K     \u001b[90m━━━━━━━━━━━━━━━━━━━━━━━━━━━━━━━━━━━━━━━━\u001b[0m \u001b[32m42.8/42.8 MB\u001b[0m \u001b[31m21.2 MB/s\u001b[0m eta \u001b[36m0:00:00\u001b[0m\n",
            "\u001b[?25hRequirement already satisfied: spacy<3.8.0,>=3.7.2 in /usr/local/lib/python3.10/dist-packages (from en-core-web-md==3.7.1) (3.7.4)\n",
            "Requirement already satisfied: spacy-legacy<3.1.0,>=3.0.11 in /usr/local/lib/python3.10/dist-packages (from spacy<3.8.0,>=3.7.2->en-core-web-md==3.7.1) (3.0.12)\n",
            "Requirement already satisfied: spacy-loggers<2.0.0,>=1.0.0 in /usr/local/lib/python3.10/dist-packages (from spacy<3.8.0,>=3.7.2->en-core-web-md==3.7.1) (1.0.5)\n",
            "Requirement already satisfied: murmurhash<1.1.0,>=0.28.0 in /usr/local/lib/python3.10/dist-packages (from spacy<3.8.0,>=3.7.2->en-core-web-md==3.7.1) (1.0.10)\n",
            "Requirement already satisfied: cymem<2.1.0,>=2.0.2 in /usr/local/lib/python3.10/dist-packages (from spacy<3.8.0,>=3.7.2->en-core-web-md==3.7.1) (2.0.8)\n",
            "Requirement already satisfied: preshed<3.1.0,>=3.0.2 in /usr/local/lib/python3.10/dist-packages (from spacy<3.8.0,>=3.7.2->en-core-web-md==3.7.1) (3.0.9)\n",
            "Requirement already satisfied: thinc<8.3.0,>=8.2.2 in /usr/local/lib/python3.10/dist-packages (from spacy<3.8.0,>=3.7.2->en-core-web-md==3.7.1) (8.2.3)\n",
            "Requirement already satisfied: wasabi<1.2.0,>=0.9.1 in /usr/local/lib/python3.10/dist-packages (from spacy<3.8.0,>=3.7.2->en-core-web-md==3.7.1) (1.1.2)\n",
            "Requirement already satisfied: srsly<3.0.0,>=2.4.3 in /usr/local/lib/python3.10/dist-packages (from spacy<3.8.0,>=3.7.2->en-core-web-md==3.7.1) (2.4.8)\n",
            "Requirement already satisfied: catalogue<2.1.0,>=2.0.6 in /usr/local/lib/python3.10/dist-packages (from spacy<3.8.0,>=3.7.2->en-core-web-md==3.7.1) (2.0.10)\n",
            "Requirement already satisfied: weasel<0.4.0,>=0.1.0 in /usr/local/lib/python3.10/dist-packages (from spacy<3.8.0,>=3.7.2->en-core-web-md==3.7.1) (0.3.4)\n",
            "Requirement already satisfied: typer<0.10.0,>=0.3.0 in /usr/local/lib/python3.10/dist-packages (from spacy<3.8.0,>=3.7.2->en-core-web-md==3.7.1) (0.9.0)\n",
            "Requirement already satisfied: smart-open<7.0.0,>=5.2.1 in /usr/local/lib/python3.10/dist-packages (from spacy<3.8.0,>=3.7.2->en-core-web-md==3.7.1) (6.4.0)\n",
            "Requirement already satisfied: tqdm<5.0.0,>=4.38.0 in /usr/local/lib/python3.10/dist-packages (from spacy<3.8.0,>=3.7.2->en-core-web-md==3.7.1) (4.66.2)\n",
            "Requirement already satisfied: requests<3.0.0,>=2.13.0 in /usr/local/lib/python3.10/dist-packages (from spacy<3.8.0,>=3.7.2->en-core-web-md==3.7.1) (2.31.0)\n",
            "Requirement already satisfied: pydantic!=1.8,!=1.8.1,<3.0.0,>=1.7.4 in /usr/local/lib/python3.10/dist-packages (from spacy<3.8.0,>=3.7.2->en-core-web-md==3.7.1) (2.6.3)\n",
            "Requirement already satisfied: jinja2 in /usr/local/lib/python3.10/dist-packages (from spacy<3.8.0,>=3.7.2->en-core-web-md==3.7.1) (3.1.3)\n",
            "Requirement already satisfied: setuptools in /usr/local/lib/python3.10/dist-packages (from spacy<3.8.0,>=3.7.2->en-core-web-md==3.7.1) (67.7.2)\n",
            "Requirement already satisfied: packaging>=20.0 in /usr/local/lib/python3.10/dist-packages (from spacy<3.8.0,>=3.7.2->en-core-web-md==3.7.1) (23.2)\n",
            "Requirement already satisfied: langcodes<4.0.0,>=3.2.0 in /usr/local/lib/python3.10/dist-packages (from spacy<3.8.0,>=3.7.2->en-core-web-md==3.7.1) (3.3.0)\n",
            "Requirement already satisfied: numpy>=1.19.0 in /usr/local/lib/python3.10/dist-packages (from spacy<3.8.0,>=3.7.2->en-core-web-md==3.7.1) (1.25.2)\n",
            "Requirement already satisfied: annotated-types>=0.4.0 in /usr/local/lib/python3.10/dist-packages (from pydantic!=1.8,!=1.8.1,<3.0.0,>=1.7.4->spacy<3.8.0,>=3.7.2->en-core-web-md==3.7.1) (0.6.0)\n",
            "Requirement already satisfied: pydantic-core==2.16.3 in /usr/local/lib/python3.10/dist-packages (from pydantic!=1.8,!=1.8.1,<3.0.0,>=1.7.4->spacy<3.8.0,>=3.7.2->en-core-web-md==3.7.1) (2.16.3)\n",
            "Requirement already satisfied: typing-extensions>=4.6.1 in /usr/local/lib/python3.10/dist-packages (from pydantic!=1.8,!=1.8.1,<3.0.0,>=1.7.4->spacy<3.8.0,>=3.7.2->en-core-web-md==3.7.1) (4.10.0)\n",
            "Requirement already satisfied: charset-normalizer<4,>=2 in /usr/local/lib/python3.10/dist-packages (from requests<3.0.0,>=2.13.0->spacy<3.8.0,>=3.7.2->en-core-web-md==3.7.1) (3.3.2)\n",
            "Requirement already satisfied: idna<4,>=2.5 in /usr/local/lib/python3.10/dist-packages (from requests<3.0.0,>=2.13.0->spacy<3.8.0,>=3.7.2->en-core-web-md==3.7.1) (3.6)\n",
            "Requirement already satisfied: urllib3<3,>=1.21.1 in /usr/local/lib/python3.10/dist-packages (from requests<3.0.0,>=2.13.0->spacy<3.8.0,>=3.7.2->en-core-web-md==3.7.1) (2.0.7)\n",
            "Requirement already satisfied: certifi>=2017.4.17 in /usr/local/lib/python3.10/dist-packages (from requests<3.0.0,>=2.13.0->spacy<3.8.0,>=3.7.2->en-core-web-md==3.7.1) (2024.2.2)\n",
            "Requirement already satisfied: blis<0.8.0,>=0.7.8 in /usr/local/lib/python3.10/dist-packages (from thinc<8.3.0,>=8.2.2->spacy<3.8.0,>=3.7.2->en-core-web-md==3.7.1) (0.7.11)\n",
            "Requirement already satisfied: confection<1.0.0,>=0.0.1 in /usr/local/lib/python3.10/dist-packages (from thinc<8.3.0,>=8.2.2->spacy<3.8.0,>=3.7.2->en-core-web-md==3.7.1) (0.1.4)\n",
            "Requirement already satisfied: click<9.0.0,>=7.1.1 in /usr/local/lib/python3.10/dist-packages (from typer<0.10.0,>=0.3.0->spacy<3.8.0,>=3.7.2->en-core-web-md==3.7.1) (8.1.7)\n",
            "Requirement already satisfied: cloudpathlib<0.17.0,>=0.7.0 in /usr/local/lib/python3.10/dist-packages (from weasel<0.4.0,>=0.1.0->spacy<3.8.0,>=3.7.2->en-core-web-md==3.7.1) (0.16.0)\n",
            "Requirement already satisfied: MarkupSafe>=2.0 in /usr/local/lib/python3.10/dist-packages (from jinja2->spacy<3.8.0,>=3.7.2->en-core-web-md==3.7.1) (2.1.5)\n",
            "Installing collected packages: en-core-web-md\n",
            "Successfully installed en-core-web-md-3.7.1\n",
            "\u001b[38;5;2m✔ Download and installation successful\u001b[0m\n",
            "You can now load the package via spacy.load('en_core_web_md')\n",
            "\u001b[38;5;3m⚠ Restart to reload dependencies\u001b[0m\n",
            "If you are in a Jupyter or Colab notebook, you may need to restart Python in\n",
            "order to load all the package's dependencies. You can do this by selecting the\n",
            "'Restart kernel' or 'Restart runtime' option.\n"
          ]
        }
      ]
    },
    {
      "cell_type": "code",
      "source": [
        "import spacy\n",
        "import pandas as pd"
      ],
      "metadata": {
        "id": "HP3yVKPB2CAE"
      },
      "execution_count": 5,
      "outputs": []
    },
    {
      "cell_type": "markdown",
      "source": [
        "Similarity scores are based on the model's understanding of the text's semantic meaning, so the effectiveness can vary based on the model used (en_core_web_md, en_core_web_lg, etc.) and the specific data."
      ],
      "metadata": {
        "id": "G7Ga20sU5dsx"
      }
    },
    {
      "cell_type": "code",
      "source": [
        "# Load the medium English model\n",
        "nlp = spacy.load(\"en_core_web_md\")"
      ],
      "metadata": {
        "id": "HtApcwxU4JeO"
      },
      "execution_count": 6,
      "outputs": []
    },
    {
      "cell_type": "markdown",
      "source": [
        "A popular NLP library for Python is spaCy, which provides powerful tools for text processing and similarity comparison.\n",
        "\n",
        "1. Normalize the text by converting it to lowercase, removing punctuation and possibly using lemmatization to reduce words to their base or root form.\n",
        "2. Convert bank names and queries into vectors. spaCy can convert text into numerical vectors that represent their semantic meaning.\n",
        "3. Use spaCy's built-in similarity comparison to find the most similar bank names to the user's query.\n"
      ],
      "metadata": {
        "id": "Z1wZM8aT5kfV"
      }
    },
    {
      "cell_type": "markdown",
      "source": [
        "The problem is to match the user's free-form input against a pre-determined list of banks. For example, user input 'bawag bank' should be matched to 'BAWAG Group AG'."
      ],
      "metadata": {
        "id": "CxrpHWWsfX--"
      }
    },
    {
      "cell_type": "code",
      "source": [
        "# List of banks to compare\n",
        "banks =   ['Sberbank Europe AG',\n",
        "          'BAWAG Group AG',\n",
        "          'Raiffeisenbankengruppe OÖ Verbund eGen',\n",
        "          'Raiffeisen Bank International AG',\n",
        "          'Volksbanken Verbund',\n",
        "          'Erste Group Bank AG',\n",
        "          'KBC Groep',\n",
        "          'Investeringsmaatschappij Argenta',\n",
        "          'Belfius Bank',\n",
        "          'AXA Bank Belgium',\n",
        "          'The Bank of New York Mellon SA/NV',\n",
        "          'First Investment Bank AD',\n",
        "          'RCB Bank Ltd',\n",
        "          'Bank of Cyprus Holdings Public Limited Company',\n",
        "          'Hellenic Bank Public Company Limited',\n",
        "          'DekaBank Deutsche Girozentrale',\n",
        "          'Erwerbsgesellschaft der S-Finanzgruppe mbH & Co. KG',\n",
        "          'UBS Europe SE',\n",
        "          'DEUTSCHE APOTHEKER- UND ÄRZTEBANK EG',\n",
        "          'Volkswagen Bank Gesellschaft mit beschränkter Haftung',\n",
        "          'Münchener Hypothekenbank eG',\n",
        "          'DZ BANK AG Deutsche Zentral-Genossenschaftsbank, Frankfurt am Main',\n",
        "          'HASPA Finanzholding',\n",
        "          'State Street Europe Holdings Germany S.a.r.l. & Co. KG',\n",
        "          'J.P. Morgan AG',\n",
        "          'DEUTSCHE BANK AKTIENGESELLSCHAFT',\n",
        "          'COMMERZBANK Aktiengesellschaft',\n",
        "          'Landesbank Baden-Württemberg',\n",
        "          'Landesbank Hessen-Thüringen Girozentrale',\n",
        "          'Norddeutsche Landesbank - Girozentrale -',\n",
        "          'Deutsche Pfandbriefbank AG',\n",
        "          'Aareal Bank AG',\n",
        "          'Hamburg Commercial Bank AG',\n",
        "          'Bayerische Landesbank',\n",
        "          'Jyske Bank A/S',\n",
        "          'Sydbank A/S',\n",
        "          'Nykredit Realkredit A/S',\n",
        "          'Danske Bank A/S',\n",
        "          'Luminor Holding AS',\n",
        "          'Abanca Corporacion Bancaria S.A.',\n",
        "          'Banco Santander S.A.',\n",
        "          'Ibercaja Banco S.A.',\n",
        "          'Kutxabank S.A',\n",
        "          'Unicaja Banco S.A.',\n",
        "          'CaixaBank S.A.',\n",
        "          'Banco de Crédito Social Cooperativo',\n",
        "          'Banco Bilbao Vizcaya Argentaria S.A.',\n",
        "          'Banco de Sabadell S.A.',\n",
        "          'Bankinter S.A.',\n",
        "          'Kuntarahoitus Oyj',\n",
        "          'Nordea Bank Abp',\n",
        "          'OP Osuuskunta',\n",
        "          'SFIL',\n",
        "          'RCI Banque',\n",
        "          'Confédération Nationale du Crédit Mutuel',\n",
        "          'La Banque Postale',\n",
        "          'Bpifrance',\n",
        "          \"C.R.H. - Caisse de refinancement de l'habitat\",\n",
        "          'HSBC Continental Europe',\n",
        "          'Groupe BPCE',\n",
        "          'Groupe Crédit Agricole',\n",
        "          'Société générale',\n",
        "          'BNP Paribas',\n",
        "          'ALPHA SERVICES AND HOLDINGS S.A.',\n",
        "          'National Bank of Greece S.A.',\n",
        "          'Eurobank Ergasias Services and Holdings S.A.',\n",
        "          'Piraeus Financial Holdings',\n",
        "          'OTP-csoport',\n",
        "          'Magyar Bankholding',\n",
        "          'Barclays Bank Ireland plc',\n",
        "          'Citibank Holdings Ireland Limited',\n",
        "          'AIB Group plc',\n",
        "          'Bank of Ireland Group plc',\n",
        "          'Ulster Bank Ireland Designated Activity Company',\n",
        "          'Bank of America Europe Designated Activity Company',\n",
        "          'Íslandsbanki hf.',\n",
        "          'Landsbankinn hf.',\n",
        "          'Arion banki hf',\n",
        "          'Intesa Sanpaolo S.p.A.',\n",
        "          'Gruppo Bancario Finecobank  ',\n",
        "          'UniCredit S.p.A.',\n",
        "          'Gruppo Bancario Mediolanum  ',\n",
        "          'Credito Emiliano Holding S.p.A.',\n",
        "          'Banco BPM SpA',\n",
        "          'Banca Popolare di Sondrio, Società Cooperativa per Azioni',\n",
        "          'Banca Monte dei Paschi di Siena S.p.A.',\n",
        "          'CASSA CENTRALE BANCA',\n",
        "          'ICCREA BANCA S.P.A.',\n",
        "          'Mediobanca - Banca di Credito Finanziario S.p.A.',\n",
        "          'Akcine bendrove Šiauliu bankas',\n",
        "          'Precision Capital S.A.',\n",
        "          'RBC Investor Services Bank S.A.',\n",
        "          'J.P. Morgan Bank Luxembourg S.A.',\n",
        "          'Banque Internationale à Luxembourg',\n",
        "          'Banque et Caisse d´Epargne de l´Etat, Luxembourg',\n",
        "          'Akciju sabiedriba \"Citadele banka\"',\n",
        "          'MDB Group Limited',\n",
        "          'Bank of Valletta Plc',\n",
        "          'HSBC Bank Malta p.l.c.',\n",
        "          'BNG Bank N.V.',\n",
        "          'ING Groep N.V.',\n",
        "          'LP Group B.V.',\n",
        "          'de Volksbank N.V.',\n",
        "          'ABN AMRO Bank N.V.',\n",
        "          'Coöperatieve Rabobank U.A.',\n",
        "          'Nederlandse Waterschapsbank N.V.',\n",
        "          'Bank Polska Kasa Opieki S.A.',\n",
        "          'Powszechna Kasa Oszczednosci Bank Polski S.A.',\n",
        "          'LSF Nani Investments S.à r.l.',\n",
        "          'Banco Comercial Português SA',\n",
        "          'Caixa Geral de Depósitos SA',\n",
        "          'Banca Transilvania',\n",
        "          'Länförsäkringar Bank AB (publ)',\n",
        "          'Kommuninvest - group',\n",
        "          'Skandinaviska Enskilda Banken - group',\n",
        "          'SBAB Bank AB - group',\n",
        "          'Swedbank - group',\n",
        "          'Svenska Handelsbanken - group',\n",
        "          'Biser Topco S.à r.l.',\n",
        "          'Nova Ljubljanska Banka d.d. Ljubljana']"
      ],
      "metadata": {
        "id": "3nsmwxZKfaqO"
      },
      "execution_count": 7,
      "outputs": []
    },
    {
      "cell_type": "code",
      "source": [
        "# Search query\n",
        "s1 = \"Bawag bank\""
      ],
      "metadata": {
        "id": "Va8q_kphfm2O"
      },
      "execution_count": 8,
      "outputs": []
    },
    {
      "cell_type": "markdown",
      "source": [
        "# Convert query to lowercase and into a spacy token"
      ],
      "metadata": {
        "id": "vkfhgMRQ6rj8"
      }
    },
    {
      "cell_type": "code",
      "source": [
        "# Convert the search query and bank names into spacy tokens\n",
        "query_token = nlp(s1.lower())"
      ],
      "metadata": {
        "id": "c50mKBHP2gC3"
      },
      "execution_count": 9,
      "outputs": []
    },
    {
      "cell_type": "markdown",
      "source": [
        "# Convert bank name to lowercase and into a spacy token and calculate Similarity"
      ],
      "metadata": {
        "id": "37IhH2qs6v5D"
      }
    },
    {
      "cell_type": "code",
      "source": [
        "# Function to calculate similarity\n",
        "def calculate_similarity(query, name):\n",
        "    token_of_bank = nlp(name.lower())\n",
        "    return query.similarity(token_of_bank)"
      ],
      "metadata": {
        "id": "RcYcGNXh2joa"
      },
      "execution_count": 10,
      "outputs": []
    },
    {
      "cell_type": "markdown",
      "source": [
        "# Calculate similarity scores and include the search query in the results"
      ],
      "metadata": {
        "id": "mw988Ork62LP"
      }
    },
    {
      "cell_type": "code",
      "source": [
        "results = [(bank, calculate_similarity(query_token, bank), s1) for bank in banks]"
      ],
      "metadata": {
        "colab": {
          "base_uri": "https://localhost:8080/"
        },
        "id": "GaIKgI5Zf6y9",
        "outputId": "0e6ffee8-e49a-4976-acec-b1aaafba98d6"
      },
      "execution_count": 11,
      "outputs": [
        {
          "output_type": "stream",
          "name": "stderr",
          "text": [
            "<ipython-input-10-7d1499d3d161>:4: UserWarning: [W008] Evaluating Doc.similarity based on empty vectors.\n",
            "  return query.similarity(token_of_bank)\n"
          ]
        }
      ]
    },
    {
      "cell_type": "markdown",
      "source": [
        "# Convert results to a DataFrame, sort by similarity score, and include the search query"
      ],
      "metadata": {
        "id": "TY5U3-1T64vD"
      }
    },
    {
      "cell_type": "code",
      "source": [
        "df_results = pd.DataFrame(results, columns=['Bank Name', 'Similarity Score', 'Search Query'])\n",
        "df_sorted = df_results.sort_values(by='Similarity Score', ascending=False)"
      ],
      "metadata": {
        "id": "msAHfneZ2pGD"
      },
      "execution_count": 12,
      "outputs": []
    },
    {
      "cell_type": "markdown",
      "source": [
        "# Display the top matches"
      ],
      "metadata": {
        "id": "YbOGI6Vh67Yc"
      }
    },
    {
      "cell_type": "code",
      "source": [
        "print(df_sorted.head(6))"
      ],
      "metadata": {
        "colab": {
          "base_uri": "https://localhost:8080/"
        },
        "id": "OADuagR74pKd",
        "outputId": "706e9e0b-af1a-4614-e866-e5d566b227ae"
      },
      "execution_count": 13,
      "outputs": [
        {
          "output_type": "stream",
          "name": "stdout",
          "text": [
            "                           Bank Name  Similarity Score Search Query\n",
            "8                       Belfius Bank          1.000000   Bawag bank\n",
            "50                   Nordea Bank Abp          1.000000   Bawag bank\n",
            "25  DEUTSCHE BANK AKTIENGESELLSCHAFT          0.904751   Bawag bank\n",
            "12                      RCB Bank Ltd          0.857416   Bawag bank\n",
            "9                   AXA Bank Belgium          0.814901   Bawag bank\n",
            "99                     BNG Bank N.V.          0.785333   Bawag bank\n"
          ]
        }
      ]
    }
  ]
}