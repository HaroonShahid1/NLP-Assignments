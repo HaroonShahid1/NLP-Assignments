{
  "nbformat": 4,
  "nbformat_minor": 0,
  "metadata": {
    "colab": {
      "provenance": []
    },
    "kernelspec": {
      "name": "python3",
      "display_name": "Python 3"
    },
    "language_info": {
      "name": "python"
    }
  },
  "cells": [
    {
      "cell_type": "markdown",
      "source": [
        "#Imports"
      ],
      "metadata": {
        "id": "Fi-UgVeGdcN_"
      }
    },
    {
      "cell_type": "code",
      "source": [
        "import nltk\n",
        "import re\n",
        "from urllib import request\n",
        "from bs4 import BeautifulSoup\n",
        "from nltk.stem import PorterStemmer, LancasterStemmer"
      ],
      "metadata": {
        "id": "XiPganStdbp_"
      },
      "execution_count": 33,
      "outputs": []
    },
    {
      "cell_type": "markdown",
      "source": [
        "###Q1) Describe the class of strings matched by the following regular expressions.\n",
        "\n",
        "1.   [a-zA-Z]+\n",
        "2.   [A-Z][a-z]*\n",
        "3.   p[aeiou]{,2}t\n",
        "4.   \\d+(\\.\\d+)?\n",
        "5.   ([^aeiou][aeiou][^aeiou])*\n",
        "6.   \\w+|[^\\w\\s]+\\\n",
        "\n",
        "###Test your answers using nltk.re_show()."
      ],
      "metadata": {
        "id": "yd9l-HNVdheh"
      }
    },
    {
      "cell_type": "code",
      "source": [
        " nltk.download('punkt')"
      ],
      "metadata": {
        "colab": {
          "base_uri": "https://localhost:8080/"
        },
        "id": "UlIXDl1Pe2v2",
        "outputId": "4f9875d9-8a97-4b42-ed0d-d9f65dbfd766"
      },
      "execution_count": 34,
      "outputs": [
        {
          "output_type": "stream",
          "name": "stderr",
          "text": [
            "[nltk_data] Downloading package punkt to /root/nltk_data...\n",
            "[nltk_data]   Package punkt is already up-to-date!\n"
          ]
        },
        {
          "output_type": "execute_result",
          "data": {
            "text/plain": [
              "True"
            ]
          },
          "metadata": {},
          "execution_count": 34
        }
      ]
    },
    {
      "cell_type": "code",
      "source": [
        "def test_regex(pattern, strings):\n",
        "  print(f\"Testing pattern: {pattern}\")\n",
        "  for string in strings:\n",
        "      nltk.re_show(pattern, string)\n",
        "  print(\"\\n\")\n",
        "\n",
        "def main():\n",
        "  # Test strings\n",
        "  strings = [\"banana\", \"Cat\", \"python\", \"987.65\", \"zxy\", \"world@hello\", \"$%^7890\"]\n",
        "\n",
        "  # Regular expressions to test\n",
        "  regex_patterns = [\n",
        "      r'[a-zA-Z]+',\n",
        "      r'[A-Z][a-z]*',\n",
        "      r'p[aeiou]{,2}t',\n",
        "      r'\\d+(\\.\\d+)?',\n",
        "      r'([^aeiou][aeiou][^aeiou])*',\n",
        "      r'\\w+|[^\\w\\s]+'\n",
        "  ]\n",
        "\n",
        "  for pattern in regex_patterns:\n",
        "      test_regex(pattern, strings)\n",
        "\n",
        "main()"
      ],
      "metadata": {
        "colab": {
          "base_uri": "https://localhost:8080/"
        },
        "id": "wB32pKEedbsc",
        "outputId": "f9f357b5-f527-4f4b-e764-afa9b90eb799"
      },
      "execution_count": 35,
      "outputs": [
        {
          "output_type": "stream",
          "name": "stdout",
          "text": [
            "Testing pattern: [a-zA-Z]+\n",
            "{banana}\n",
            "{Cat}\n",
            "{python}\n",
            "987.65\n",
            "{zxy}\n",
            "{world}@{hello}\n",
            "$%^7890\n",
            "\n",
            "\n",
            "Testing pattern: [A-Z][a-z]*\n",
            "banana\n",
            "{Cat}\n",
            "python\n",
            "987.65\n",
            "zxy\n",
            "world@hello\n",
            "$%^7890\n",
            "\n",
            "\n",
            "Testing pattern: p[aeiou]{,2}t\n",
            "banana\n",
            "Cat\n",
            "python\n",
            "987.65\n",
            "zxy\n",
            "world@hello\n",
            "$%^7890\n",
            "\n",
            "\n",
            "Testing pattern: \\d+(\\.\\d+)?\n",
            "banana\n",
            "Cat\n",
            "python\n",
            "{987.65}\n",
            "zxy\n",
            "world@hello\n",
            "$%^{7890}\n",
            "\n",
            "\n",
            "Testing pattern: ([^aeiou][aeiou][^aeiou])*\n",
            "{ban}{}a{}n{}a{}\n",
            "{Cat}{}\n",
            "{}p{}y{}t{hon}{}\n",
            "{}9{}8{}7{}.{}6{}5{}\n",
            "{}z{}x{}y{}\n",
            "{wor}{}l{}d{}@{hel}{}l{}o{}\n",
            "{}${}%{}^{}7{}8{}9{}0{}\n",
            "\n",
            "\n",
            "Testing pattern: \\w+|[^\\w\\s]+\n",
            "{banana}\n",
            "{Cat}\n",
            "{python}\n",
            "{987}{.}{65}\n",
            "{zxy}\n",
            "{world}{@}{hello}\n",
            "{$%^}{7890}\n",
            "\n",
            "\n"
          ]
        }
      ]
    },
    {
      "cell_type": "markdown",
      "source": [
        "###Q2) Write regular expressions to match the following classes of strings:\n",
        "\n",
        "\n",
        "*   A single determiner (assume that a, an, and the are the only determiners).\n",
        "*   An arithmetic expression using integers, addition, and multiplication, such as 2*3+8."
      ],
      "metadata": {
        "id": "DwtAsAT9fmPh"
      }
    },
    {
      "cell_type": "code",
      "source": [
        "determiner_pattern = r'\\b(?:a|an|the)\\b'\n",
        "arithmetic_pattern = r'\\d+(\\s*[\\+\\*]\\s*\\d+)*'\n",
        "\n",
        "# Test with a sample string\n",
        "sample_string1 = \"The cat is sleeping.\"\n",
        "sample_string2 = \"2*3+8\"\n",
        "match = re.search(determiner_pattern, sample_string1, re.IGNORECASE)\n",
        "match = re.fullmatch(arithmetic_pattern, sample_string2)\n",
        "\n",
        "if match:\n",
        "    print(f\"Found determiner: {match.group()}\")\n",
        "else:\n",
        "    print(\"No determiner found.\")\n",
        "\n",
        "if match:\n",
        "    print(\"Valid arithmetic expression.\")\n",
        "else:\n",
        "    print(\"Not a valid arithmetic expression.\")"
      ],
      "metadata": {
        "id": "QXtDEro0dbvV",
        "colab": {
          "base_uri": "https://localhost:8080/"
        },
        "outputId": "fd209100-d720-4d48-a0c5-dd2852d05b40"
      },
      "execution_count": 36,
      "outputs": [
        {
          "output_type": "stream",
          "name": "stdout",
          "text": [
            "Found determiner: 2*3+8\n",
            "Valid arithmetic expression.\n"
          ]
        }
      ]
    },
    {
      "cell_type": "markdown",
      "source": [
        "###Q3) Write a utility function that takes a URL as its argument, and returns the contents of the URL, with all\n",
        "HTML markup removed. Use from urllib import request and\n",
        "then request.urlopen(‘https://www.csail.mit.edu/people/’).read().decode('utf8') to access the contents of\n",
        "the URL. Use BeautifulSoup(html).get_text() to parse html."
      ],
      "metadata": {
        "id": "ecQAWo8egiaq"
      }
    },
    {
      "cell_type": "code",
      "source": [
        "!pip install beautifulsoup4"
      ],
      "metadata": {
        "colab": {
          "base_uri": "https://localhost:8080/"
        },
        "id": "ViAj2do3hAuj",
        "outputId": "50dfccdc-79d0-46d4-9811-7f4db1e108d7"
      },
      "execution_count": 37,
      "outputs": [
        {
          "output_type": "stream",
          "name": "stdout",
          "text": [
            "Requirement already satisfied: beautifulsoup4 in /usr/local/lib/python3.10/dist-packages (4.12.3)\n",
            "Requirement already satisfied: soupsieve>1.2 in /usr/local/lib/python3.10/dist-packages (from beautifulsoup4) (2.5)\n"
          ]
        }
      ]
    },
    {
      "cell_type": "code",
      "source": [
        "url = 'https://www.csail.mit.edu/people/'\n",
        "\n",
        "try:\n",
        "    # Fetch content from the URL\n",
        "    response = request.urlopen(url)\n",
        "    HTTPPasswordMgrWithDefaultRealm = response.read().decode('utf8')\n",
        "\n",
        "    # Parse HTML using BeautifulSoup and get text\n",
        "    soup = BeautifulSoup(HTTPPasswordMgrWithDefaultRealm, 'html.parser')\n",
        "    txt = soup.get_text()\n",
        "\n",
        "    if txt:\n",
        "        print(txt)\n",
        "    else:\n",
        "        print(\"** No text content found on the webpage. **\")\n",
        "\n",
        "except request.URLError as url_error:\n",
        "    print(f\"URL Error: {url_error}\")\n",
        "    print(\"Failed to fetch the content. Please check the URL.\")\n",
        "\n",
        "except Exception as e:\n",
        "    print(f\"Error: {e}\")\n",
        "    print(\"Failed to parse the content.\")\n"
      ],
      "metadata": {
        "id": "u9O8C2Pyc1Lp",
        "colab": {
          "base_uri": "https://localhost:8080/"
        },
        "outputId": "5e7fa239-1663-4e25-eb64-86daa7269205"
      },
      "execution_count": 38,
      "outputs": [
        {
          "output_type": "stream",
          "name": "stdout",
          "text": [
            "\n",
            "\n",
            "\n",
            "\n",
            "\n",
            "\n",
            "\n",
            "\n",
            "\n",
            "\n",
            "\n",
            "\n",
            "People | MIT CSAIL\n",
            "\n",
            "\n",
            "\n",
            "\n",
            "\n",
            "\n",
            "    Skip to main content\n",
            "  \n",
            "\n",
            "\n",
            "\n",
            "\n",
            "\n",
            "\n",
            "\n",
            "\n",
            "\n",
            "For Students\n",
            "\n",
            "\n",
            "For Industry\n",
            "\n",
            "\n",
            "For Members\n",
            "\n",
            "\n",
            "Accessibility\n",
            "\n",
            "\n",
            "Login\n",
            "\n",
            "\n",
            "\n",
            "\n",
            "\n",
            "\n",
            "\n",
            "\n",
            "\n",
            "\n",
            "\n",
            "\n",
            "\n",
            "\n",
            "\n",
            "\n",
            "\n",
            "\n",
            "\n",
            "\n",
            "\n",
            "\n",
            "\n",
            "\n",
            "\n",
            "MIT CSAIL\n",
            "\n",
            "\n",
            "\n",
            "\n",
            "\n",
            "Research\n",
            "\n",
            "\n",
            "People\n",
            "\n",
            "\n",
            "News\n",
            "\n",
            "\n",
            "Events\n",
            "\n",
            "\n",
            "Symposia\n",
            "\n",
            "\n",
            "About\n",
            "\n",
            "\n",
            "\n",
            "\n",
            "\n",
            "\n",
            "\n",
            "\n",
            "\n",
            "\n",
            "\n",
            "\n",
            "\n",
            "\n",
            "MIT LOGO\n",
            "Created with Sketch.\n",
            "\n",
            "\n",
            "\n",
            "\n",
            "\n",
            "\n",
            "\n",
            "\n",
            "\n",
            "\n",
            "\n",
            "\n",
            "\n",
            "\n",
            "\n",
            "\n",
            "\n",
            "\n",
            "\n",
            "\n",
            "\n",
            "\n",
            "\n",
            "\n",
            "Research\n",
            "\n",
            "\n",
            "People\n",
            "\n",
            "\n",
            "News\n",
            "\n",
            "\n",
            "Events\n",
            "\n",
            "\n",
            "Symposia\n",
            "\n",
            "\n",
            "About\n",
            "\n",
            "\n",
            "\n",
            "\n",
            "\n",
            "\n",
            "\n",
            "\n",
            "For Students\n",
            "\n",
            "\n",
            "For Industry\n",
            "\n",
            "\n",
            "For Members\n",
            "\n",
            "\n",
            "Accessibility\n",
            "\n",
            "\n",
            "Login\n",
            "\n",
            "\n",
            "\n",
            "\n",
            "\n",
            "\n",
            "\n",
            "\n",
            "Contact\n",
            "\n",
            "\n",
            "Press Requests\n",
            "\n",
            "\n",
            "Accessibility\n",
            "\n",
            "\n",
            "\n",
            "\n",
            "\n",
            "\n",
            "\n",
            "\n",
            "\n",
            "\n",
            "\n",
            "Search\n",
            "\n",
            "\n",
            "\n",
            "\n",
            "\n",
            "\n",
            "\n",
            "\n",
            "\n",
            "\n",
            "\n",
            "\n",
            "\n",
            "\n",
            "\n",
            "\n",
            "\n",
            "\n",
            "\n",
            "\n",
            "\n",
            "\n",
            "\n",
            "\n",
            "\n",
            "\n",
            "\n",
            "\n",
            "\n",
            "\n",
            "MIT CSAIL\n",
            "\n",
            "\n",
            "Massachusetts Institute of Technology\n",
            "Computer Science & Artificial Intelligence Laboratory\n",
            "32 Vassar St, Cambridge MA 02139\n",
            "\n",
            "\n",
            "\n",
            "\n",
            "Contact\n",
            "\n",
            "\n",
            "Press Requests\n",
            "\n",
            "\n",
            "Accessibility\n",
            "\n",
            "\n",
            "\n",
            "\n",
            "\n",
            "\n",
            "\n",
            "\n",
            "\n",
            "\n",
            "\n",
            "\n",
            "\n",
            "\n",
            "\n",
            "\n",
            "\n",
            "\n",
            "\n",
            "\n",
            "\n",
            "\n",
            "\n",
            "\n",
            "\n"
          ]
        }
      ]
    },
    {
      "cell_type": "markdown",
      "source": [
        "###Q4) Tokenize text parsed from the above url using nltk. Find all phone numbers and email addresses from this text using regular expressions.\n"
      ],
      "metadata": {
        "id": "PYlbZTG5ina1"
      }
    },
    {
      "cell_type": "code",
      "source": [
        "tokens = nltk.word_tokenize(txt)\n",
        "\n",
        "# Find phone numbers using regular expression\n",
        "p_num = re.findall(r'\\b\\d{3}[-.\\s]?\\d{3}[-.\\s]?\\d{4}\\b', txt)\n",
        "# Find email addresses using regular expression\n",
        "e_addr = re.findall(r'\\b[A-Za-z0-9._%+-]+@[A-Za-z0-9.-]+\\.[A-Z|a-z]{2,}\\b', txt)\n",
        "\n",
        "print(\"Phone Numbers Are :\", p_num)\n",
        "print(\"Email Addresses Are :\", e_addr)"
      ],
      "metadata": {
        "colab": {
          "base_uri": "https://localhost:8080/"
        },
        "id": "Xo4tsnuBim6I",
        "outputId": "9f1c63c2-f288-4d74-80e7-5a45b1f81e4b"
      },
      "execution_count": 41,
      "outputs": [
        {
          "output_type": "stream",
          "name": "stdout",
          "text": [
            "Phone Numbers Are : []\n",
            "Email Addresses Are : []\n"
          ]
        }
      ]
    },
    {
      "cell_type": "markdown",
      "source": [
        "###Q5) Use the Porter Stemmer to normalize some tokenized text, calling the stemmer on each word. Do the same thing with the Lancaster Stemmer and see if you observe any differences"
      ],
      "metadata": {
        "id": "gON5UVSyjFvO"
      }
    },
    {
      "cell_type": "code",
      "source": [
        "porter_stemmer = PorterStemmer()\n",
        "lancaster_stemmer = LancasterStemmer()\n",
        "porter_stems = [porter_stemmer.stem(word) for word in tokens]\n",
        "lancaster_stems = [lancaster_stemmer.stem(word) for word in tokens]\n",
        "\n",
        "print(\"Original Tokens:\", tokens)\n",
        "print(\"Porter Stemmed Tokens:\", porter_stems)\n",
        "print(\"Lancaster Stemmed Tokens:\", lancaster_stems)"
      ],
      "metadata": {
        "colab": {
          "base_uri": "https://localhost:8080/"
        },
        "id": "ufW8minbim8x",
        "outputId": "2e494f1a-33f5-476d-fc20-04277dd8444e"
      },
      "execution_count": 42,
      "outputs": [
        {
          "output_type": "stream",
          "name": "stdout",
          "text": [
            "Original Tokens: ['People', '|', 'MIT', 'CSAIL', 'Skip', 'to', 'main', 'content', 'For', 'Students', 'For', 'Industry', 'For', 'Members', 'Accessibility', 'Login', 'MIT', 'CSAIL', 'Research', 'People', 'News', 'Events', 'Symposia', 'About', 'MIT', 'LOGO', 'Created', 'with', 'Sketch', '.', 'Research', 'People', 'News', 'Events', 'Symposia', 'About', 'For', 'Students', 'For', 'Industry', 'For', 'Members', 'Accessibility', 'Login', 'Contact', 'Press', 'Requests', 'Accessibility', 'Search', 'MIT', 'CSAIL', 'Massachusetts', 'Institute', 'of', 'Technology', 'Computer', 'Science', '&', 'Artificial', 'Intelligence', 'Laboratory', '32', 'Vassar', 'St', ',', 'Cambridge', 'MA', '02139', 'Contact', 'Press', 'Requests', 'Accessibility']\n",
            "Porter Stemmed Tokens: ['peopl', '|', 'mit', 'csail', 'skip', 'to', 'main', 'content', 'for', 'student', 'for', 'industri', 'for', 'member', 'access', 'login', 'mit', 'csail', 'research', 'peopl', 'new', 'event', 'symposia', 'about', 'mit', 'logo', 'creat', 'with', 'sketch', '.', 'research', 'peopl', 'new', 'event', 'symposia', 'about', 'for', 'student', 'for', 'industri', 'for', 'member', 'access', 'login', 'contact', 'press', 'request', 'access', 'search', 'mit', 'csail', 'massachusett', 'institut', 'of', 'technolog', 'comput', 'scienc', '&', 'artifici', 'intellig', 'laboratori', '32', 'vassar', 'st', ',', 'cambridg', 'ma', '02139', 'contact', 'press', 'request', 'access']\n",
            "Lancaster Stemmed Tokens: ['peopl', '|', 'mit', 'csail', 'skip', 'to', 'main', 'cont', 'for', 'stud', 'for', 'industry', 'for', 'memb', 'access', 'login', 'mit', 'csail', 'research', 'peopl', 'new', 'ev', 'sympos', 'about', 'mit', 'logo', 'cre', 'with', 'sketch', '.', 'research', 'peopl', 'new', 'ev', 'sympos', 'about', 'for', 'stud', 'for', 'industry', 'for', 'memb', 'access', 'login', 'contact', 'press', 'request', 'access', 'search', 'mit', 'csail', 'massachuset', 'institut', 'of', 'technolog', 'comput', 'sci', '&', 'art', 'intellig', 'lab', '32', 'vass', 'st', ',', 'cambridg', 'ma', '02139', 'contact', 'press', 'request', 'access']\n"
          ]
        }
      ]
    },
    {
      "cell_type": "markdown",
      "source": [
        "###Q6) For this question, assume you have a shy friend who is hesitating to tell you something, so he/ she sent a long random text on WhatsApp that also contains his/ her message. Since you are a Regex Guru, your task is to extract the actual message from the random text using regular expressions and some rules."
      ],
      "metadata": {
        "id": "Q-jw-vVCmtCP"
      }
    },
    {
      "cell_type": "code",
      "source": [
        "import re\n",
        "\n",
        "def find_freq(regex, text):\n",
        "    try:\n",
        "        words = re.findall(regex, text)\n",
        "        fre1 = len(words)\n",
        "        rslt = words[0] if words else None\n",
        "        return fre1, rslt\n",
        "    except Exception as e:\n",
        "        print(f\"An error occurred in find_freq: {e}\")\n",
        "        return 0, None\n",
        "\n",
        "def process_text(text, filename):\n",
        "    try:\n",
        "        f_wrd_regex = r'\\b[Zz][a-z]*a\\b'\n",
        "        s_wrd_regex = r'\\b\\d[kK][a-z]*\\d\\b'\n",
        "        t_wrd_regex = r'\\bc[a-z]*\\*[a-z]+a\\b'\n",
        "        fr_wrd_regex = r'\\b[Pp][a-z]{2}a\\b'\n",
        "\n",
        "        fre1_1, rslt_1 = find_freq(f_wrd_regex, text)\n",
        "        rslt_2 = find_freq(s_wrd_regex, text)[1][3:-3]\n",
        "        rslt_3 = find_freq(t_wrd_regex, text)[1].replace('*', '')\n",
        "        fre1_4, rslt_4 = find_freq(fr_wrd_regex, text)\n",
        "\n",
        "        with open(filename, 'w') as file:\n",
        "            file.write(f\"freq of  1st word: {fre1_1}\\n\")\n",
        "            file.write(f\"freq of  4th word: {fre1_4}\\n\")\n",
        "            file.write(f\"First word will be: {rslt_1}\\n\")\n",
        "            file.write(f\"Second word will be: {rslt_2}\\n\")\n",
        "            file.write(f\"Third word will be: {rslt_3}\\n\")\n",
        "            file.write(f\"Fourth word will be: {rslt_4}\\n\")\n",
        "\n",
        "        fifth_word = \"de\"\n",
        "        message = f\"{rslt_1} {rslt_2} {rslt_3} {rslt_4} {fifth_word}\"\n",
        "\n",
        "        with open(filename, 'a') as file:\n",
        "            file.write(f\"Final Message will be : {message}\")\n",
        "    except Exception as e:\n",
        "        print(f\"An error occurred in process_text: {e}\")\n",
        "\n",
        "new_text = \"Pila Forfeited you engrossed but 1kometimes explained. Another 1kacokaco1 as studied it to evident. Merry sense 9given he be arisepila. Conduct at an replied removal an amongst. Remainingzalima 0determine few her two cordially Zalima admitting old. Sometimes ctra*nger his pisdsdla ourselves her co*la depending you boy. Eat discretion cultivated possession far comparison projection pila considered. And few fat interested discovered inquietude insensible unsatiable increasing zalima eat.\"\n",
        "\n",
        "try:\n",
        "    process_text(new_text, \"output.txt\")\n",
        "except Exception as e:\n",
        "    print(f\"An error occurred: {e}\")"
      ],
      "metadata": {
        "id": "Twka3OIminCr"
      },
      "execution_count": 100,
      "outputs": []
    }
  ]
}